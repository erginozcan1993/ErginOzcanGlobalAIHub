{
  "nbformat": 4,
  "nbformat_minor": 0,
  "metadata": {
    "colab": {
      "provenance": []
    },
    "kernelspec": {
      "name": "python3",
      "display_name": "Python 3"
    },
    "language_info": {
      "name": "python"
    }
  },
  "cells": [
    {
      "cell_type": "markdown",
      "source": [
        "# Global AI Hub Akbank Python Bootcamp\n",
        "### Ergin Özcan's Project\n",
        "\n",
        "Bu proje, pizza sipariş sisteminin bir örneği üzerine çalışılmaktadır. Bu yüzden belli program üzerinde faaliyet olması hedeflenmektedir."
      ],
      "metadata": {
        "id": "HdftAdSVdhmT"
      }
    },
    {
      "cell_type": "markdown",
      "source": [
        "## Gerekli dosyalarını yükleme"
      ],
      "metadata": {
        "id": "BWtOpr9AeSLU"
      }
    },
    {
      "cell_type": "code",
      "source": [
        "import csv\n",
        "import datetime"
      ],
      "metadata": {
        "id": "ZwPt8QANecBl"
      },
      "execution_count": null,
      "outputs": []
    },
    {
      "cell_type": "markdown",
      "source": [
        "## Menu.TXT dosyasını yükleme"
      ],
      "metadata": {
        "id": "Db6pstICgHl1"
      }
    },
    {
      "cell_type": "code",
      "source": [
        "menu = open(\"menu.txt\", \"w\")"
      ],
      "metadata": {
        "id": "OOD-evXUgL68"
      },
      "execution_count": null,
      "outputs": []
    },
    {
      "cell_type": "code",
      "source": [
        "menu = open(\"menu.txt\", \"w\")\n",
        "menu.writelines([\"*Lütfen Bir Pizza Tabanı Seçiniz: \\n\",\"1: Klasik \\n\",\"2: Margarita \\n\",\"3: TürkPizza \\n\",\"4: Sade Pizza \\n\",\"* ve seçeceğiniz sos: \\n\",\"11: Zeytin \\n\",\"12: Mantarlar \\n\", \"13: Keçi Peyniri \\n\", \"14: Et \\n\", \"15: Soğan \\n\",\"16: Mısır \\n\",\"* Teşekkür ederiz! \\n\"])"
      ],
      "metadata": {
        "id": "DRmvZh1fgUPG"
      },
      "execution_count": null,
      "outputs": []
    },
    {
      "cell_type": "code",
      "source": [
        "menu"
      ],
      "metadata": {
        "colab": {
          "base_uri": "https://localhost:8080/"
        },
        "id": "lkLsVrqwjIq_",
        "outputId": "56bac79e-e27b-48da-a445-d43eced52c16"
      },
      "execution_count": null,
      "outputs": [
        {
          "output_type": "execute_result",
          "data": {
            "text/plain": [
              "<_io.TextIOWrapper name='menu.txt' mode='w' encoding='UTF-8'>"
            ]
          },
          "metadata": {},
          "execution_count": 5
        }
      ]
    },
    {
      "cell_type": "code",
      "source": [
        "menu = open(\"menu.txt\", \"r\")"
      ],
      "metadata": {
        "id": "Ze-xz62_hO6d"
      },
      "execution_count": null,
      "outputs": []
    },
    {
      "cell_type": "code",
      "source": [
        "print(menu.read())"
      ],
      "metadata": {
        "colab": {
          "base_uri": "https://localhost:8080/"
        },
        "id": "KAvpfYAYjRu8",
        "outputId": "019fe505-a988-476b-95ad-1d08ec180db4"
      },
      "execution_count": null,
      "outputs": [
        {
          "output_type": "stream",
          "name": "stdout",
          "text": [
            "\n"
          ]
        }
      ]
    },
    {
      "cell_type": "code",
      "source": [
        "menu"
      ],
      "metadata": {
        "colab": {
          "base_uri": "https://localhost:8080/"
        },
        "id": "pOZ-7IkQjhFx",
        "outputId": "7ca4bb43-f906-4396-fa06-7840792f1451"
      },
      "execution_count": null,
      "outputs": [
        {
          "output_type": "execute_result",
          "data": {
            "text/plain": [
              "<_io.TextIOWrapper name='menu.txt' mode='r' encoding='UTF-8'>"
            ]
          },
          "metadata": {},
          "execution_count": 8
        }
      ]
    },
    {
      "cell_type": "code",
      "source": [
        "menu.close()"
      ],
      "metadata": {
        "id": "S3zE6Y6Sjn3e"
      },
      "execution_count": null,
      "outputs": []
    },
    {
      "cell_type": "markdown",
      "source": [
        "## Pizza Üst Menü Oluşturma"
      ],
      "metadata": {
        "id": "W5KXRaqZjzU7"
      }
    },
    {
      "cell_type": "markdown",
      "source": [
        "Bu konuda belli başlı kapsüllemeyi yapmayı gerektiriyor. Biz de belli kapsülleme yöntemlerini uygulayacağız."
      ],
      "metadata": {
        "id": "zQ_dPG6Dk38x"
      }
    },
    {
      "cell_type": "code",
      "source": [
        "class get_description:\n",
        "    def __init__(menu):\n",
        "      menu._aciklama = \"Buraya açıklama gelecek.\"\n",
        "\n",
        "class get_cost(get_description):\n",
        "  def __init__(menu):\n",
        "    get_description.__init__(menu)\n",
        "    menu._fiyat = \"20\", \"25\", \"30\", \"35\"\n",
        "\n",
        "description = get_description()\n",
        "cost = get_cost()"
      ],
      "metadata": {
        "id": "zueaaF7cjrbm"
      },
      "execution_count": null,
      "outputs": []
    },
    {
      "cell_type": "markdown",
      "source": [
        "## Pizza Alt Sınıfı Oluşturma"
      ],
      "metadata": {
        "id": "-uvrmuDrUbiH"
      }
    },
    {
      "cell_type": "markdown",
      "source": [
        "Burada ise ana pizzaların yanı sıra ek soslarını bir sınıfa ekleyeceğim."
      ],
      "metadata": {
        "id": "AJg0B0-yUfhC"
      }
    },
    {
      "cell_type": "code",
      "source": [
        "class pizza:\n",
        "  def __init__(self, pizza):\n",
        "    self.pizza = pizza\n",
        "\n",
        "pizza1 = pizza('Klasik')\n",
        "pizza2 = pizza('Margherita')\n",
        "pizza3 = pizza('Türk Pizzası')\n",
        "pizza4 = pizza('Dominos Pizza')"
      ],
      "metadata": {
        "id": "Huo2p26dm22B"
      },
      "execution_count": null,
      "outputs": []
    },
    {
      "cell_type": "markdown",
      "source": [
        "## Decorator Üst Sınıfı Oluşturma"
      ],
      "metadata": {
        "id": "86v-NgcjZpqk"
      }
    },
    {
      "cell_type": "code",
      "source": [
        "class Klasik:\n",
        "    def __init__(self):\n",
        "        self.cost = 20\n",
        "        self.description = \"Klasik Pizza\"\n",
        "    def get_cost(self):\n",
        "        return self.cost\n",
        "    def get_description(self):\n",
        "        return self.description"
      ],
      "metadata": {
        "id": "NIYKncPQYOF0"
      },
      "execution_count": null,
      "outputs": []
    },
    {
      "cell_type": "code",
      "source": [
        "class Margherita:\n",
        "  def __init__(self):\n",
        "    self.cost = 25\n",
        "    self.description = \"Margherita Pizza\"\n",
        "  def get_cost(self):\n",
        "    return self.cost\n",
        "  def get_description(self):\n",
        "    return self.description"
      ],
      "metadata": {
        "id": "xY_gvCq7ahRi"
      },
      "execution_count": null,
      "outputs": []
    },
    {
      "cell_type": "code",
      "source": [
        "class TürkPizzası:\n",
        "  def __init__(self):\n",
        "    self.cost = 30\n",
        "    self.description = \"Türk Pizzası\"\n",
        "  def get_cost(self):\n",
        "    return self.cost\n",
        "  def get_description(self):\n",
        "    return self.description"
      ],
      "metadata": {
        "id": "82b1rSTVa0J3"
      },
      "execution_count": null,
      "outputs": []
    },
    {
      "cell_type": "code",
      "source": [
        "class DominosPizza:\n",
        "  def __init__(self):\n",
        "    self.cost = 35\n",
        "    self.description = \"Dominos Pizza\"\n",
        "  def get_cost(self):\n",
        "    return self.cost\n",
        "  def get_description(self):\n",
        "    return self.description"
      ],
      "metadata": {
        "id": "Vc52nPU4bHp_"
      },
      "execution_count": null,
      "outputs": []
    },
    {
      "cell_type": "code",
      "source": [
        "class EkSoslar:\n",
        "    def get_description(self):\n",
        "        return self.__class__.__name__\n",
        "    def get_cost(self):\n",
        "        return self.__class__.cost\n",
        "\n",
        "class Decorator(EkSoslar):\n",
        "    def __init__(self, EkSoslar):\n",
        "        self.name = EkSoslar\n",
        "    def get_cost(self):\n",
        "        return self.EkSoslar.get_cost() + \\\n",
        "          EkSoslar.get_cost(self)\n",
        "    def get_description(self):\n",
        "        return self.eksoslar.get_description() + \\\n",
        "          ' ' + eksoslar.get_description(self)\n",
        "\n",
        "\n",
        "class Zeytin(Decorator):\n",
        "    cost = 5.00\n",
        "    def __init__(self, EkSoslar):\n",
        "        Decorator.__init__(self, EkSoslar)\n",
        "\n",
        "class Mantarlar(Decorator):\n",
        "    cost = 10.00\n",
        "    def __init__(self, EkSoslar):\n",
        "        Decorator.__init__(self, EkSoslar)\n",
        "\n",
        "class KeciPeyniri(Decorator):\n",
        "    cost = 10.00\n",
        "    def __init__(self, EkSoslar):\n",
        "        Decorator.__init__(self, EkSoslar)\n",
        "\n",
        "class Et(Decorator):\n",
        "    cost = 20.00\n",
        "    def __init__(self, EkSoslar):\n",
        "        Decorator.__init__(self, EkSoslar)\n",
        "\n",
        "class Sogan(Decorator):\n",
        "    cost = 5.00\n",
        "    def __init__(self, EkSoslar):\n",
        "        Decorator.__init__(self, EkSoslar)\n",
        "\n",
        "class Misir(Decorator):\n",
        "    cost = 5.00\n",
        "    def __init__(self, EkSoslar):\n",
        "        Decorator.__init__(self, EkSoslar)"
      ],
      "metadata": {
        "id": "O5zBrMmRbZSM"
      },
      "execution_count": null,
      "outputs": []
    },
    {
      "cell_type": "code",
      "source": [],
      "metadata": {
        "id": "9QepVE7ub7pn"
      },
      "execution_count": null,
      "outputs": []
    }
  ]
}